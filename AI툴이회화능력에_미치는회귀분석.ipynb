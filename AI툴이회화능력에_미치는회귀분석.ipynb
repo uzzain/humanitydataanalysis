{
  "nbformat": 4,
  "nbformat_minor": 0,
  "metadata": {
    "colab": {
      "provenance": [],
      "authorship_tag": "ABX9TyOfAXTLldIpZV/4KMOb2Dp4",
      "include_colab_link": true
    },
    "kernelspec": {
      "name": "python3",
      "display_name": "Python 3"
    },
    "language_info": {
      "name": "python"
    }
  },
  "cells": [
    {
      "cell_type": "markdown",
      "metadata": {
        "id": "view-in-github",
        "colab_type": "text"
      },
      "source": [
        "<a href=\"https://colab.research.google.com/github/uzzain/humanitydataanalysis/blob/main/AI%ED%88%B4%EC%9D%B4%ED%9A%8C%ED%99%94%EB%8A%A5%EB%A0%A5%EC%97%90_%EB%AF%B8%EC%B9%98%EB%8A%94%ED%9A%8C%EA%B7%80%EB%B6%84%EC%84%9D.ipynb\" target=\"_parent\"><img src=\"https://colab.research.google.com/assets/colab-badge.svg\" alt=\"Open In Colab\"/></a>"
      ]
    },
    {
      "cell_type": "code",
      "execution_count": 2,
      "metadata": {
        "colab": {
          "base_uri": "https://localhost:8080/"
        },
        "id": "0pA_L4NnxibL",
        "outputId": "919ca832-8b2a-4d23-f001-f3e2a4f8cdb1"
      },
      "outputs": [
        {
          "output_type": "stream",
          "name": "stdout",
          "text": [
            "<class 'pandas.core.frame.DataFrame'>\n",
            "RangeIndex: 48913 entries, 0 to 48912\n",
            "Data columns (total 40 columns):\n",
            " #   Column                                        Non-Null Count  Dtype  \n",
            "---  ------                                        --------------  -----  \n",
            " 0   Time                                          48913 non-null  object \n",
            " 1   Age                                           48913 non-null  int64  \n",
            " 2   Gender                                        48913 non-null  object \n",
            " 3   Native Language                               48913 non-null  object \n",
            " 4   Country of Residence                          48913 non-null  object \n",
            " 5   Language Proficiency Level (Initial)          48913 non-null  object \n",
            " 6   Type of Activity                              48913 non-null  object \n",
            " 7   Lesson Content Type                           48913 non-null  object \n",
            " 8   Number of Lessons Completed                   48913 non-null  int64  \n",
            " 9   Time Spent on Learning (Hours)                48913 non-null  float64\n",
            " 10  Learning Platform or Tool Used                48913 non-null  object \n",
            " 11  Homework Completion Rate (%)                  48913 non-null  float64\n",
            " 12  Participation in Interactive Exercises        48913 non-null  object \n",
            " 13  Frequency of Practice Sessions                48913 non-null  int64  \n",
            " 14  Test Scores                                   48913 non-null  float64\n",
            " 15  Speaking Fluency Scores                       48913 non-null  float64\n",
            " 16  Reading Comprehension Scores                  48913 non-null  float64\n",
            " 17  Writing Quality                               48913 non-null  float64\n",
            " 18  Change in Proficiency Level                   48913 non-null  int64  \n",
            " 19  Assignment Grades                             48913 non-null  float64\n",
            " 20  Error Correction Rate (%)                     48913 non-null  float64\n",
            " 21  Feedback from Instructors/Tutors              48913 non-null  object \n",
            " 22  Study Session Duration (Minutes)              48913 non-null  float64\n",
            " 23  Learning Consistency (Days Per Week Studied)  48913 non-null  int64  \n",
            " 24  User Activity Type                            48913 non-null  object \n",
            " 25  Engagement with Additional Materials          48913 non-null  object \n",
            " 26  Peer Interaction Score                        48913 non-null  float64\n",
            " 27  Motivation Level                              48913 non-null  object \n",
            " 28  Learning Environment                          48913 non-null  object \n",
            " 29  Learning Mode                                 48913 non-null  object \n",
            " 30  Accessibility of Learning Resources           48913 non-null  object \n",
            " 31  Use of AI Tools                               38940 non-null  object \n",
            " 32  Language Learning Goals                       48913 non-null  object \n",
            " 33  Language Proficiency Improvement              48913 non-null  object \n",
            " 34  Engagement Level                              48913 non-null  object \n",
            " 35  Learning Outcome Classification               48913 non-null  object \n",
            " 36  Assessment Score Categories                   48913 non-null  object \n",
            " 37  Language Retention Rate                       48913 non-null  object \n",
            " 38  Learning Path Preference                      48913 non-null  object \n",
            " 39  Learning Style Adaptability                   48913 non-null  object \n",
            "dtypes: float64(10), int64(5), object(25)\n",
            "memory usage: 14.9+ MB\n",
            "None\n",
            "                  Time  Age  Gender Native Language Country of Residence  \\\n",
            "0  2019-02-01 00:00:00   48    Male           Other                China   \n",
            "1  2019-02-01 01:00:00   38    Male         Chinese                  USA   \n",
            "2  2019-02-01 02:00:00   24  Female         English                  USA   \n",
            "3  2019-02-01 03:00:00   52    Male         English                China   \n",
            "4  2019-02-01 04:00:00   17    Male         English                  USA   \n",
            "\n",
            "  Language Proficiency Level (Initial) Type of Activity Lesson Content Type  \\\n",
            "0                             Beginner         Speaking          Vocabulary   \n",
            "1                         Intermediate        Listening             Grammar   \n",
            "2                             Beginner        Listening          Vocabulary   \n",
            "3                             Advanced          Writing             Grammar   \n",
            "4                         Intermediate        Listening             Grammar   \n",
            "\n",
            "   Number of Lessons Completed  Time Spent on Learning (Hours)  ...  \\\n",
            "0                            7                        3.276618  ...   \n",
            "1                            3                        8.558211  ...   \n",
            "2                            5                        0.573979  ...   \n",
            "3                            5                        1.534952  ...   \n",
            "4                            4                        3.886753  ...   \n",
            "\n",
            "  Accessibility of Learning Resources  Use of AI Tools  \\\n",
            "0                                High          Chatbot   \n",
            "1                                High          Chatbot   \n",
            "2                                High              NaN   \n",
            "3                              Medium          Chatbot   \n",
            "4                                High          Chatbot   \n",
            "\n",
            "  Language Learning Goals  Language Proficiency Improvement  Engagement Level  \\\n",
            "0            Professional                          Moderate            Medium   \n",
            "1            Professional                          Moderate              High   \n",
            "2            Professional                          Moderate            Medium   \n",
            "3            Professional                           Minimal            Medium   \n",
            "4            Professional                          Moderate            Medium   \n",
            "\n",
            "   Learning Outcome Classification  Assessment Score Categories  \\\n",
            "0                         Achieved                    Excellent   \n",
            "1               Partially Achieved                         Good   \n",
            "2               Partially Achieved                    Excellent   \n",
            "3               Partially Achieved                    Excellent   \n",
            "4                         Achieved                    Excellent   \n",
            "\n",
            "   Language Retention Rate  Learning Path Preference  \\\n",
            "0                 Moderate                Structured   \n",
            "1                      Low                  Flexible   \n",
            "2                      Low                Structured   \n",
            "3                      Low                Structured   \n",
            "4                      Low                  Flexible   \n",
            "\n",
            "   Learning Style Adaptability  \n",
            "0                         High  \n",
            "1                     Moderate  \n",
            "2                     Moderate  \n",
            "3                          Low  \n",
            "4                     Moderate  \n",
            "\n",
            "[5 rows x 40 columns]\n"
          ]
        }
      ],
      "source": [
        "import pandas as pd\n",
        "\n",
        "# 데이터 로드\n",
        "df = pd.read_csv('language_learning_dataset_complete.csv')\n",
        "\n",
        "# 데이터 확인\n",
        "print(df.info())\n",
        "print(df.head())"
      ]
    },
    {
      "cell_type": "code",
      "source": [
        "# 결측치 처리: 결측치가 있는 행 제거\n",
        "df_cleaned = df[['Use of AI Tools', 'Speaking Fluency Scores']].dropna()\n",
        "\n",
        "# 범주형 데이터 인코딩\n",
        "df_cleaned['Use of AI Tools'] = df_cleaned['Use of AI Tools'].apply(lambda x: 1 if x == 'Yes' else 0)\n",
        "\n",
        "# 데이터 확인\n",
        "print(df_cleaned.info())\n",
        "print(df_cleaned.head())"
      ],
      "metadata": {
        "colab": {
          "base_uri": "https://localhost:8080/"
        },
        "id": "7FunSBqtxxwc",
        "outputId": "592b5fa6-28f9-45eb-a14e-4934feec39e3"
      },
      "execution_count": 3,
      "outputs": [
        {
          "output_type": "stream",
          "name": "stdout",
          "text": [
            "<class 'pandas.core.frame.DataFrame'>\n",
            "Index: 38940 entries, 0 to 48912\n",
            "Data columns (total 2 columns):\n",
            " #   Column                   Non-Null Count  Dtype  \n",
            "---  ------                   --------------  -----  \n",
            " 0   Use of AI Tools          38940 non-null  int64  \n",
            " 1   Speaking Fluency Scores  38940 non-null  float64\n",
            "dtypes: float64(1), int64(1)\n",
            "memory usage: 912.7 KB\n",
            "None\n",
            "   Use of AI Tools  Speaking Fluency Scores\n",
            "0                0                58.509473\n",
            "1                0                69.879090\n",
            "3                0                36.286628\n",
            "4                0                54.925089\n",
            "5                0                80.355542\n"
          ]
        }
      ]
    },
    {
      "cell_type": "code",
      "source": [
        "from sklearn.model_selection import train_test_split\n",
        "\n",
        "# 독립변수와 종속변수 설정\n",
        "X = df_cleaned[['Use of AI Tools']]\n",
        "y = df_cleaned['Speaking Fluency Scores']\n",
        "\n",
        "# 데이터 분할\n",
        "X_train, X_test, y_train, y_test = train_test_split(X, y, test_size=0.2, random_state=42)"
      ],
      "metadata": {
        "id": "820OfBXqx8mS"
      },
      "execution_count": 4,
      "outputs": []
    },
    {
      "cell_type": "code",
      "source": [
        "from sklearn.linear_model import LinearRegression\n",
        "from sklearn.metrics import mean_squared_error, r2_score\n",
        "\n",
        "# 모델 생성 및 학습\n",
        "model = LinearRegression()\n",
        "model.fit(X_train, y_train)\n",
        "\n",
        "# 예측\n",
        "y_pred = model.predict(X_test)\n",
        "\n",
        "# 결과 평가\n",
        "mse = mean_squared_error(y_test, y_pred)\n",
        "r2 = r2_score(y_test, y_pred)\n",
        "\n",
        "print(\"Mean Squared Error:\", mse)\n",
        "print(\"R-squared:\", r2)\n",
        "print(\"Model Coefficients:\", model.coef_)\n",
        "print(\"Model Intercept:\", model.intercept_)"
      ],
      "metadata": {
        "colab": {
          "base_uri": "https://localhost:8080/"
        },
        "id": "r4EuihKEx-nA",
        "outputId": "243b763a-41f2-460b-f09b-295d22d436b0"
      },
      "execution_count": 5,
      "outputs": [
        {
          "output_type": "stream",
          "name": "stdout",
          "text": [
            "Mean Squared Error: 386.1951150666547\n",
            "R-squared: -0.00021727105684399284\n",
            "Model Coefficients: [0.]\n",
            "Model Intercept: 59.91342691583577\n"
          ]
        }
      ]
    },
    {
      "cell_type": "code",
      "source": [
        "import matplotlib.pyplot as plt\n",
        "import seaborn as sns\n",
        "\n",
        "# 데이터 시각화\n",
        "sns.boxplot(x='Use of AI Tools', y='Speaking Fluency Scores', data=df_cleaned)\n",
        "plt.title(\"Effect of AI Tools on Speaking Fluency Scores\")\n",
        "plt.show()"
      ],
      "metadata": {
        "colab": {
          "base_uri": "https://localhost:8080/",
          "height": 472
        },
        "id": "IRiUAB1kyCE-",
        "outputId": "0b1b4f3e-0040-4c49-bc9a-215c0f1067b2"
      },
      "execution_count": 6,
      "outputs": [
        {
          "output_type": "display_data",
          "data": {
            "text/plain": [
              "<Figure size 640x480 with 1 Axes>"
            ],
            "image/png": "[encoded data removed]"
          },
          "metadata": {}
        }
      ]
    },
    {
      "cell_type": "code",
      "source": [
        "correlation = df_cleaned.corr()\n",
        "print(correlation)"
      ],
      "metadata": {
        "colab": {
          "base_uri": "https://localhost:8080/"
        },
        "id": "sYryFcuwyP17",
        "outputId": "6cfebacc-f4db-43cf-d323-496091f4446f"
      },
      "execution_count": 7,
      "outputs": [
        {
          "output_type": "stream",
          "name": "stdout",
          "text": [
            "                         Use of AI Tools  Speaking Fluency Scores\n",
            "Use of AI Tools                      NaN                      NaN\n",
            "Speaking Fluency Scores              NaN                      1.0\n"
          ]
        }
      ]
    },
    {
      "cell_type": "code",
      "source": [
        "# 다중 회귀 분석에 사용할 변수 선택\n",
        "features = ['Use of AI Tools', 'Participation in Interactive Exercises', 'Learning Consistency (Days Per Week Studied)']\n",
        "df_multi = df[['Speaking Fluency Scores'] + features].dropna()\n",
        "\n",
        "# 독립 변수와 종속 변수 분리\n",
        "X_multi = pd.get_dummies(df_multi[features], drop_first=True)  # 범주형 데이터 인코딩\n",
        "y_multi = df_multi['Speaking Fluency Scores']\n",
        "\n",
        "# 데이터 분할 및 회귀 분석 동일하게 수행\n",
        "X_train, X_test, y_train, y_test = train_test_split(X_multi, y_multi, test_size=0.2, random_state=42)\n",
        "\n",
        "# 모델 학습 및 평가\n",
        "model.fit(X_train, y_train)\n",
        "y_pred_multi = model.predict(X_test)\n",
        "\n",
        "mse_multi = mean_squared_error(y_test, y_pred_multi)\n",
        "r2_multi = r2_score(y_test, y_pred_multi)\n",
        "\n",
        "print(\"Multi-feature Mean Squared Error:\", mse_multi)\n",
        "print(\"Multi-feature R-squared:\", r2_multi)"
      ],
      "metadata": {
        "colab": {
          "base_uri": "https://localhost:8080/"
        },
        "id": "4I6N25IYyTB7",
        "outputId": "08625408-56f6-4222-d0aa-6158d3a16ebc"
      },
      "execution_count": 8,
      "outputs": [
        {
          "output_type": "stream",
          "name": "stdout",
          "text": [
            "Multi-feature Mean Squared Error: 386.2898254855098\n",
            "Multi-feature R-squared: -0.0004625641560889182\n"
          ]
        }
      ]
    },
    {
      "cell_type": "code",
      "source": [
        "from sklearn.ensemble import RandomForestRegressor\n",
        "from sklearn.tree import DecisionTreeRegressor\n",
        "from sklearn.metrics import mean_squared_error, r2_score"
      ],
      "metadata": {
        "id": "TNLva-mwyVbD"
      },
      "execution_count": 9,
      "outputs": []
    },
    {
      "cell_type": "code",
      "source": [
        "# Decision Tree Regressor\n",
        "dt_model = DecisionTreeRegressor(random_state=42)\n",
        "dt_model.fit(X_train, y_train)\n",
        "\n",
        "# Predict\n",
        "y_pred_dt = dt_model.predict(X_test)\n",
        "\n",
        "# Evaluate\n",
        "mse_dt = mean_squared_error(y_test, y_pred_dt)\n",
        "r2_dt = r2_score(y_test, y_pred_dt)\n",
        "\n",
        "print(\"Decision Tree Mean Squared Error:\", mse_dt)\n",
        "print(\"Decision Tree R-squared:\", r2_dt)"
      ],
      "metadata": {
        "colab": {
          "base_uri": "https://localhost:8080/"
        },
        "id": "4lMsDERTydw5",
        "outputId": "3bcd908f-adbf-4f12-af08-6d111a2e367e"
      },
      "execution_count": 10,
      "outputs": [
        {
          "output_type": "stream",
          "name": "stdout",
          "text": [
            "Decision Tree Mean Squared Error: 387.2756086526605\n",
            "Decision Tree R-squared: -0.0030156708910897834\n"
          ]
        }
      ]
    },
    {
      "cell_type": "code",
      "source": [
        "# Random Forest Regressor\n",
        "rf_model = RandomForestRegressor(random_state=42, n_estimators=100)\n",
        "rf_model.fit(X_train, y_train)\n",
        "\n",
        "# Predict\n",
        "y_pred_rf = rf_model.predict(X_test)\n",
        "\n",
        "# Evaluate\n",
        "mse_rf = mean_squared_error(y_test, y_pred_rf)\n",
        "r2_rf = r2_score(y_test, y_pred_rf)\n",
        "\n",
        "print(\"Random Forest Mean Squared Error:\", mse_rf)\n",
        "print(\"Random Forest R-squared:\", r2_rf)"
      ],
      "metadata": {
        "colab": {
          "base_uri": "https://localhost:8080/"
        },
        "id": "De9IJ8pGygK-",
        "outputId": "0cd0a89c-bb63-471e-cc9b-1594aee468b2"
      },
      "execution_count": 11,
      "outputs": [
        {
          "output_type": "stream",
          "name": "stdout",
          "text": [
            "Random Forest Mean Squared Error: 387.2315696684311\n",
            "Random Forest R-squared: -0.0029016131236363485\n"
          ]
        }
      ]
    },
    {
      "cell_type": "code",
      "source": [
        "import matplotlib.pyplot as plt\n",
        "\n",
        "# Feature importance\n",
        "feature_importance = rf_model.feature_importances_\n",
        "features = X_train.columns\n",
        "\n",
        "# Plot feature importance\n",
        "plt.figure(figsize=(10, 6))\n",
        "plt.barh(features, feature_importance)\n",
        "plt.xlabel('Feature Importance')\n",
        "plt.title('Random Forest Feature Importance')\n",
        "plt.show()"
      ],
      "metadata": {
        "colab": {
          "base_uri": "https://localhost:8080/",
          "height": 556
        },
        "id": "aCI4Rh_ZyiHW",
        "outputId": "96c6f7f2-5aec-40ca-b1bb-d2546d3312ac"
      },
      "execution_count": 12,
      "outputs": [
        {
          "output_type": "display_data",
          "data": {
            "text/plain": [
              "<Figure size 1000x600 with 1 Axes>"
            ],
            "image/png": "[encoded data removed]"
          },
          "metadata": {}
        }
      ]
    },
    {
      "cell_type": "code",
      "source": [],
      "metadata": {
        "id": "FPje4Aufykiy"
      },
      "execution_count": null,
      "outputs": []
    }
  ]
}